{
 "cells": [
  {
   "cell_type": "markdown",
   "id": "b53afa81",
   "metadata": {},
   "source": [
    "# Sentiment Analysis - Wildfires"
   ]
  },
  {
   "cell_type": "markdown",
   "id": "1b386d1c",
   "metadata": {},
   "source": [
    "## Install Libraries"
   ]
  },
  {
   "cell_type": "code",
   "execution_count": 13,
   "id": "36685286",
   "metadata": {},
   "outputs": [],
   "source": [
    "import pandas as pd\n",
    "import numpy as np\n",
    "import datetime\n",
    "import tweepy"
   ]
  },
  {
   "cell_type": "markdown",
   "id": "8ef1c22c",
   "metadata": {},
   "source": [
    "# API"
   ]
  },
  {
   "cell_type": "code",
   "execution_count": 10,
   "id": "07cb45b2",
   "metadata": {},
   "outputs": [
    {
     "ename": "NameError",
     "evalue": "name 'api_key' is not defined",
     "output_type": "error",
     "traceback": [
      "\u001b[0;31m---------------------------------------------------------------------------\u001b[0m",
      "\u001b[0;31mNameError\u001b[0m                                 Traceback (most recent call last)",
      "\u001b[1;32m/Users/su/Documents/GitHub/sentimentanalysis/Sentiment Analysis.ipynb Cell 5\u001b[0m in \u001b[0;36m<cell line: 3>\u001b[0;34m()\u001b[0m\n\u001b[1;32m      <a href='vscode-notebook-cell:/Users/su/Documents/GitHub/sentimentanalysis/Sentiment%20Analysis.ipynb#X16sZmlsZQ%3D%3D?line=0'>1</a>\u001b[0m \u001b[39m# Authentication\u001b[39;00m\n\u001b[0;32m----> <a href='vscode-notebook-cell:/Users/su/Documents/GitHub/sentimentanalysis/Sentiment%20Analysis.ipynb#X16sZmlsZQ%3D%3D?line=2'>3</a>\u001b[0m auth \u001b[39m=\u001b[39m tweepy\u001b[39m.\u001b[39mOAuthHandler(api_key, api_key_secret)\n\u001b[1;32m      <a href='vscode-notebook-cell:/Users/su/Documents/GitHub/sentimentanalysis/Sentiment%20Analysis.ipynb#X16sZmlsZQ%3D%3D?line=3'>4</a>\u001b[0m auth\u001b[39m.\u001b[39mset_access_token(access_key, access_key_secret)\n\u001b[1;32m      <a href='vscode-notebook-cell:/Users/su/Documents/GitHub/sentimentanalysis/Sentiment%20Analysis.ipynb#X16sZmlsZQ%3D%3D?line=5'>6</a>\u001b[0m api \u001b[39m=\u001b[39m tweepy\u001b[39m.\u001b[39mAPI(auth, wait_on_rate_limit\u001b[39m=\u001b[39m\u001b[39mTrue\u001b[39;00m)\n",
      "\u001b[0;31mNameError\u001b[0m: name 'api_key' is not defined"
     ]
    }
   ],
   "source": [
    "# Authentication\n",
    "api_key = \"Please insert your key\"\n",
    "api_key_secret = \"Please insert your key\"\n",
    "access_key = \"Please insert your key\"\n",
    "access_key_secret = \"Please insert your key\"\n",
    "\n",
    "auth = tweepy.OAuthHandler(api_key, api_key_secret)\n",
    "auth.set_access_token(access_key, access_key_secret)\n",
    "\n",
    "api = tweepy.API(auth, wait_on_rate_limit = True)"
   ]
  },
  {
   "cell_type": "markdown",
   "id": "29cb112c",
   "metadata": {},
   "source": [
    "# Gathering the Data"
   ]
  },
  {
   "cell_type": "code",
   "execution_count": 3,
   "id": "b9e4bf2f",
   "metadata": {},
   "outputs": [],
   "source": [
    "tweets = tweepy.Cursor(api.search_tweets, q = \"wildfire -filter:retweets\", lang = \"en\").items(15000)"
   ]
  },
  {
   "cell_type": "code",
   "execution_count": 4,
   "id": "9859d46a",
   "metadata": {},
   "outputs": [
    {
     "name": "stdout",
     "output_type": "stream",
     "text": [
      "CPU times: user 298 ms, sys: 41.7 ms, total: 340 ms\n",
      "Wall time: 6.99 s\n"
     ]
    }
   ],
   "source": [
    "%%time\n",
    "tweet_list = []\n",
    "tweet_date = []\n",
    "tweet_rt = []\n",
    "tweet_fav = []\n",
    "\n",
    "for tweet in tweets:\n",
    "    tweet_list.append(tweet.text)\n",
    "    tweet_date.append(tweet.created_at)\n",
    "    tweet_rt.append(tweet.retweet_count)\n",
    "    tweet_fav.append(tweet.favorite_count)\n",
    "    \n",
    "wildfire = pd.DataFrame({\"tweets\": tweet_list, \"date\": tweet_date, \"rt\": tweet_rt, \"fav\": tweet_fav})"
   ]
  },
  {
   "cell_type": "code",
   "execution_count": 5,
   "id": "d6f462da",
   "metadata": {},
   "outputs": [],
   "source": [
    "wildfire.to_csv(\"wildfire22.csv\")"
   ]
  },
  {
   "cell_type": "markdown",
   "id": "7cb8568b",
   "metadata": {},
   "source": [
    "# Data"
   ]
  },
  {
   "cell_type": "code",
   "execution_count": 23,
   "id": "87a560f5",
   "metadata": {},
   "outputs": [
    {
     "data": {
      "text/html": [
       "<div>\n",
       "<style scoped>\n",
       "    .dataframe tbody tr th:only-of-type {\n",
       "        vertical-align: middle;\n",
       "    }\n",
       "\n",
       "    .dataframe tbody tr th {\n",
       "        vertical-align: top;\n",
       "    }\n",
       "\n",
       "    .dataframe thead th {\n",
       "        text-align: right;\n",
       "    }\n",
       "</style>\n",
       "<table border=\"1\" class=\"dataframe\">\n",
       "  <thead>\n",
       "    <tr style=\"text-align: right;\">\n",
       "      <th></th>\n",
       "      <th>Unnamed: 0</th>\n",
       "      <th>tweets</th>\n",
       "      <th>date</th>\n",
       "      <th>rt</th>\n",
       "      <th>fav</th>\n",
       "    </tr>\n",
       "  </thead>\n",
       "  <tbody>\n",
       "    <tr>\n",
       "      <th>0</th>\n",
       "      <td>0</td>\n",
       "      <td>Blue Mountains Wildfire January 1994 https://t...</td>\n",
       "      <td>14/08/2022 14:12</td>\n",
       "      <td>0</td>\n",
       "      <td>0</td>\n",
       "    </tr>\n",
       "    <tr>\n",
       "      <th>1</th>\n",
       "      <td>1</td>\n",
       "      <td>*Flashback*\\n\\nAugust 2017... wildfire Smoke b...</td>\n",
       "      <td>14/08/2022 14:10</td>\n",
       "      <td>0</td>\n",
       "      <td>0</td>\n",
       "    </tr>\n",
       "    <tr>\n",
       "      <th>2</th>\n",
       "      <td>2</td>\n",
       "      <td>@Ebuka243 just like a wildfire🦍</td>\n",
       "      <td>14/08/2022 14:10</td>\n",
       "      <td>0</td>\n",
       "      <td>0</td>\n",
       "    </tr>\n",
       "    <tr>\n",
       "      <th>3</th>\n",
       "      <td>3</td>\n",
       "      <td>Europe's blistering summer may not be over yet...</td>\n",
       "      <td>14/08/2022 14:10</td>\n",
       "      <td>0</td>\n",
       "      <td>0</td>\n",
       "    </tr>\n",
       "    <tr>\n",
       "      <th>4</th>\n",
       "      <td>4</td>\n",
       "      <td>Pretty serious #wildfire at Newgale right now ...</td>\n",
       "      <td>14/08/2022 14:09</td>\n",
       "      <td>1</td>\n",
       "      <td>1</td>\n",
       "    </tr>\n",
       "    <tr>\n",
       "      <th>...</th>\n",
       "      <td>...</td>\n",
       "      <td>...</td>\n",
       "      <td>...</td>\n",
       "      <td>...</td>\n",
       "      <td>...</td>\n",
       "    </tr>\n",
       "    <tr>\n",
       "      <th>14995</th>\n",
       "      <td>14995</td>\n",
       "      <td>@Joe71545644 They are able to go out immediate...</td>\n",
       "      <td>07/08/2022 08:33</td>\n",
       "      <td>0</td>\n",
       "      <td>0</td>\n",
       "    </tr>\n",
       "    <tr>\n",
       "      <th>14996</th>\n",
       "      <td>14996</td>\n",
       "      <td>devastating in particular for the Karuk and Yu...</td>\n",
       "      <td>07/08/2022 08:32</td>\n",
       "      <td>2</td>\n",
       "      <td>1</td>\n",
       "    </tr>\n",
       "    <tr>\n",
       "      <th>14997</th>\n",
       "      <td>14997</td>\n",
       "      <td>Now playing on WGMU: 1999 WILDFIRE (CLEAN) by ...</td>\n",
       "      <td>07/08/2022 08:28</td>\n",
       "      <td>0</td>\n",
       "      <td>0</td>\n",
       "    </tr>\n",
       "    <tr>\n",
       "      <th>14998</th>\n",
       "      <td>14998</td>\n",
       "      <td>Want your life reduced to this bag due to wild...</td>\n",
       "      <td>07/08/2022 08:12</td>\n",
       "      <td>6</td>\n",
       "      <td>6</td>\n",
       "    </tr>\n",
       "    <tr>\n",
       "      <th>14999</th>\n",
       "      <td>14999</td>\n",
       "      <td>@SadiqMaunde Wildfire</td>\n",
       "      <td>07/08/2022 08:10</td>\n",
       "      <td>0</td>\n",
       "      <td>0</td>\n",
       "    </tr>\n",
       "  </tbody>\n",
       "</table>\n",
       "<p>15000 rows × 5 columns</p>\n",
       "</div>"
      ],
      "text/plain": [
       "       Unnamed: 0                                             tweets  \\\n",
       "0               0  Blue Mountains Wildfire January 1994 https://t...   \n",
       "1               1  *Flashback*\\n\\nAugust 2017... wildfire Smoke b...   \n",
       "2               2                    @Ebuka243 just like a wildfire🦍   \n",
       "3               3  Europe's blistering summer may not be over yet...   \n",
       "4               4  Pretty serious #wildfire at Newgale right now ...   \n",
       "...           ...                                                ...   \n",
       "14995       14995  @Joe71545644 They are able to go out immediate...   \n",
       "14996       14996  devastating in particular for the Karuk and Yu...   \n",
       "14997       14997  Now playing on WGMU: 1999 WILDFIRE (CLEAN) by ...   \n",
       "14998       14998  Want your life reduced to this bag due to wild...   \n",
       "14999       14999                              @SadiqMaunde Wildfire   \n",
       "\n",
       "                   date  rt  fav  \n",
       "0      14/08/2022 14:12   0    0  \n",
       "1      14/08/2022 14:10   0    0  \n",
       "2      14/08/2022 14:10   0    0  \n",
       "3      14/08/2022 14:10   0    0  \n",
       "4      14/08/2022 14:09   1    1  \n",
       "...                 ...  ..  ...  \n",
       "14995  07/08/2022 08:33   0    0  \n",
       "14996  07/08/2022 08:32   2    1  \n",
       "14997  07/08/2022 08:28   0    0  \n",
       "14998  07/08/2022 08:12   6    6  \n",
       "14999  07/08/2022 08:10   0    0  \n",
       "\n",
       "[15000 rows x 5 columns]"
      ]
     },
     "execution_count": 23,
     "metadata": {},
     "output_type": "execute_result"
    }
   ],
   "source": [
    "wildfire = pd.read_csv(\"wildfire.csv\")\n",
    "wildfire.reset_index(drop=True, inplace=True)\n",
    "wildfire"
   ]
  }
 ],
 "metadata": {
  "kernelspec": {
   "display_name": "Python 3.8.9 64-bit",
   "language": "python",
   "name": "python3"
  },
  "language_info": {
   "codemirror_mode": {
    "name": "ipython",
    "version": 3
   },
   "file_extension": ".py",
   "mimetype": "text/x-python",
   "name": "python",
   "nbconvert_exporter": "python",
   "pygments_lexer": "ipython3",
   "version": "3.8.9"
  },
  "vscode": {
   "interpreter": {
    "hash": "31f2aee4e71d21fbe5cf8b01ff0e069b9275f58929596ceb00d14d90e3e16cd6"
   }
  }
 },
 "nbformat": 4,
 "nbformat_minor": 5
}
